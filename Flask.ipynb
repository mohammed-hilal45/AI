{
 "cells": [
  {
   "cell_type": "code",
   "execution_count": 1,
   "id": "2ec52b66-2ed5-4013-8572-f7a47b8b6af7",
   "metadata": {},
   "outputs": [],
   "source": [
    "from flask import Flask, request, jsonify\n",
    "import pandas as pd\n",
    "import pickle\n",
    "import numpy as np\n"
   ]
  },
  {
   "cell_type": "code",
   "execution_count": 2,
   "id": "7b87892f-1100-4083-b7be-50c299b631b7",
   "metadata": {},
   "outputs": [],
   "source": [
    "app = Flask(__name__)"
   ]
  },
  {
   "cell_type": "code",
   "execution_count": 3,
   "id": "3951a0ec-373e-42fa-a5ac-949d59e4901e",
   "metadata": {},
   "outputs": [],
   "source": [
    "with open('model.pkl', 'rb') as file:\n",
    "    model = pickle.load(file)"
   ]
  },
  {
   "cell_type": "code",
   "execution_count": 4,
   "id": "78c43925-aac1-4318-966c-f728387039db",
   "metadata": {},
   "outputs": [],
   "source": [
    "with open('column_transformer.pkl', 'rb') as file:\n",
    "    ct = pickle.load(file)\n"
   ]
  },
  {
   "cell_type": "code",
   "execution_count": 5,
   "id": "ce6ecd54-0d52-4a47-99ca-15ce837735ad",
   "metadata": {},
   "outputs": [],
   "source": [
    "fuel_type_mapping = {'petrol': \"petrol\", 'diesel': \"diesel\", 'gas': \"gas\"}\n",
    "imported_mapping = {'yes': \"yes\", 'no': \"no\"}\n"
   ]
  },
  {
   "cell_type": "code",
   "execution_count": 6,
   "id": "64ef3011-9962-43ee-8d21-695898f31779",
   "metadata": {},
   "outputs": [],
   "source": [
    "@app.route('/predict', methods=['POST'])\n",
    "def predict():\n",
    "    try:\n",
    "        data = request.get_json()\n",
    "\n",
    "       \n",
    "        input_data = {\n",
    "            'Brand': data['make'],\n",
    "            'Body': data['model'],\n",
    "            'Mileage': float(data['mileage']),\n",
    "            'EngineV': float(data['engine_size']),\n",
    "            'Engine Type': fuel_type_mapping.get(data['fuelType'].lower(), 'petrol'),\n",
    "            'Registration': imported_mapping.get(data['isImported'].lower(), 'no')\n",
    "        }\n",
    "\n",
    "       \n",
    "        input_df = pd.DataFrame([input_data])\n",
    "\n",
    "     \n",
    "        test_scaled = ct.transform(input_df)\n",
    "\n",
    "\n",
    "        predicted_price = model.predict(test_scaled)\n",
    "        predicted_price = np.exp(predicted_price[0])  \n",
    "\n",
    "        return jsonify(price=round(predicted_price, 2))\n",
    "    \n",
    "    except Exception as e:\n",
    "        return jsonify({'error': str(e)})"
   ]
  },
  {
   "cell_type": "code",
   "execution_count": 7,
   "id": "29ca5122-0c7d-450a-95eb-e86ccea9dfac",
   "metadata": {},
   "outputs": [
    {
     "name": "stdout",
     "output_type": "stream",
     "text": [
      " * Serving Flask app '__main__'\n",
      " * Debug mode: on\n"
     ]
    },
    {
     "name": "stderr",
     "output_type": "stream",
     "text": [
      "WARNING: This is a development server. Do not use it in a production deployment. Use a production WSGI server instead.\n",
      " * Running on http://127.0.0.1:5000\n",
      "Press CTRL+C to quit\n",
      " * Restarting with watchdog (windowsapi)\n"
     ]
    },
    {
     "ename": "SystemExit",
     "evalue": "1",
     "output_type": "error",
     "traceback": [
      "An exception has occurred, use %tb to see the full traceback.\n",
      "\u001b[1;31mSystemExit\u001b[0m\u001b[1;31m:\u001b[0m 1\n"
     ]
    },
    {
     "name": "stderr",
     "output_type": "stream",
     "text": [
      "C:\\Users\\moham\\anaconda3\\Lib\\site-packages\\IPython\\core\\interactiveshell.py:3585: UserWarning: To exit: use 'exit', 'quit', or Ctrl-D.\n",
      "  warn(\"To exit: use 'exit', 'quit', or Ctrl-D.\", stacklevel=1)\n"
     ]
    }
   ],
   "source": [
    "if __name__ == '__main__':\n",
    "    app.run(debug=True)"
   ]
  },
  {
   "cell_type": "code",
   "execution_count": null,
   "id": "8f0e6471-bafa-4268-b24a-5471509dea80",
   "metadata": {},
   "outputs": [],
   "source": []
  }
 ],
 "metadata": {
  "kernelspec": {
   "display_name": "Python [conda env:base] *",
   "language": "python",
   "name": "conda-base-py"
  },
  "language_info": {
   "codemirror_mode": {
    "name": "ipython",
    "version": 3
   },
   "file_extension": ".py",
   "mimetype": "text/x-python",
   "name": "python",
   "nbconvert_exporter": "python",
   "pygments_lexer": "ipython3",
   "version": "3.12.7"
  }
 },
 "nbformat": 4,
 "nbformat_minor": 5
}
